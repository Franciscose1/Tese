{
 "cells": [
  {
   "cell_type": "markdown",
   "metadata": {},
   "source": [
    "# UNET Model for Classification"
   ]
  },
  {
   "cell_type": "code",
   "execution_count": 1,
   "metadata": {},
   "outputs": [],
   "source": [
    "from importsfunctions import *"
   ]
  },
  {
   "cell_type": "markdown",
   "metadata": {},
   "source": [
    "## Import train and validation dataset"
   ]
  },
  {
   "cell_type": "code",
   "execution_count": null,
   "metadata": {
    "jupyter": {
     "source_hidden": true
    }
   },
   "outputs": [],
   "source": [
    "DATAPATH = 'ISIC2017/ISIC-2017_Training_Data/ISIC-2017_Training_Data_Resize_5721/1/'\n",
    "DATAPATH_segm = 'ISIC2017/ISIC-2017_Training_Part1_GroundTruth/ISIC-2017_Training_Part1_GroundTruth_Resize_5721/1/'\n",
    "DATAPATH_csv='ISIC2017/ISIC-2017_Training_Part3_GroundTruth.csv'\n",
    "x_train,_,y_trainclass,nomeficht=import_datasetBS(DATAPATH,DATAPATH_segm, DATAPATH_csv,2000)\n",
    "\n",
    "DATAPATH = 'ISIC2017/ISIC-2017_Validation_Data/ISIC-2017_Validation_Data_Resize_5721/'\n",
    "DATAPATH_segm = 'ISIC2017/ISIC-2017_Validation_Part1_GroundTruth/ISIC-2017_Validation_Part1_GroundTruth_Resize_5721/'\n",
    "DATAPATH_csv='ISIC2017/ISIC-2017_Validation_Part3_GroundTruth.csv'\n",
    "x_validation,_,y_validationclass,nomefichv=import_datasetBS(DATAPATH,DATAPATH_segm, DATAPATH_csv,150)\n"
   ]
  },
  {
   "cell_type": "markdown",
   "metadata": {},
   "source": [
    "## Import train and validation dataset for data augmentation"
   ]
  },
  {
   "cell_type": "code",
   "execution_count": null,
   "metadata": {
    "jupyter": {
     "source_hidden": true
    }
   },
   "outputs": [],
   "source": [
    "DATAPATH = 'ISIC2017/ISIC-2017_Training_Data/ISIC-2017_Training_Data_Resize_572_Augment/1/'\n",
    "DATAPATH_segm = 'ISIC2017/ISIC-2017_Training_Part1_GroundTruth/ISIC-2017_Training_Part1_GroundTruth_Resize_572_Augment/1/'\n",
    "DATAPATH_csv='ISIC2017/ISIC-2017_Training_Part3_GroundTruth.csv'\n",
    "x_train,_,y_trainclass,nomeficht=import_datasetBSrot(DATAPATH,DATAPATH_segm, DATAPATH_csv,4000)"
   ]
  },
  {
   "cell_type": "code",
   "execution_count": 2,
   "metadata": {},
   "outputs": [
    {
     "name": "stdout",
     "output_type": "stream",
     "text": [
      "yes\n"
     ]
    }
   ],
   "source": [
    "DATAPATH = 'ISIC2017/ISIC-2017_Validation_Data/ISIC-2017_Validation_Data_Resize_5721/'\n",
    "DATAPATH_segm = 'ISIC2017/ISIC-2017_Validation_Part1_GroundTruth/ISIC-2017_Validation_Part1_GroundTruth_Resize_5721/'\n",
    "DATAPATH_csv='ISIC2017/ISIC-2017_Validation_Part3_GroundTruth.csv'\n",
    "x_validation,_,y_validationclass,nomefichv=import_datasetBSrot(DATAPATH,DATAPATH_segm, DATAPATH_csv,150)\n",
    "x_validation=x_validation/255"
   ]
  },
  {
   "cell_type": "markdown",
   "metadata": {},
   "source": [
    "### Train and Validation Examples"
   ]
  },
  {
   "cell_type": "code",
   "execution_count": null,
   "metadata": {
    "jupyter": {
     "source_hidden": true
    }
   },
   "outputs": [],
   "source": [
    "ix = random.randint(0, 1999)\n",
    "print(nomeficht[ix])\n",
    "imshow(x_train[ix])\n",
    "plt.show()\n",
    "print(y_trainclass[ix])"
   ]
  },
  {
   "cell_type": "code",
   "execution_count": null,
   "metadata": {
    "jupyter": {
     "source_hidden": true
    }
   },
   "outputs": [],
   "source": [
    "ix = random.randint(0, 149)\n",
    "print(nomefichv[ix])\n",
    "imshow(x_validation[ix])\n",
    "plt.show()\n",
    "print(y_validationclass[ix])"
   ]
  },
  {
   "cell_type": "markdown",
   "metadata": {},
   "source": [
    "## Build Model"
   ]
  },
  {
   "cell_type": "code",
   "execution_count": null,
   "metadata": {
    "jupyter": {
     "source_hidden": true
    }
   },
   "outputs": [],
   "source": [
    "batchsize=8\n",
    "fullysize=1024\n",
    "poolvalue=3\n",
    "model = redeUNETclass(IMG_HEIGHT, IMG_WIDTH, IMG_CHANNELS, act='relu',complexity=32,fully=fullysize,pool=poolvalue,dropout_c=True)\n",
    "model.compile(optimizer=Adam(learning_rate=1e-4, ),loss='categorical_crossentropy',metrics=['categorical_accuracy'],weighted_metrics=['accuracy'])\n",
    "model.summary()"
   ]
  },
  {
   "cell_type": "markdown",
   "metadata": {},
   "source": [
    "### Configuration "
   ]
  },
  {
   "cell_type": "code",
   "execution_count": null,
   "metadata": {
    "jupyter": {
     "source_hidden": true
    }
   },
   "outputs": [],
   "source": [
    "rounded_train=np.argmax(y_trainclass, axis=1)\n",
    "y_validationclass2=np.argmax(y_validationclass, axis=1)\n",
    "class_weights = class_weight.compute_class_weight('balanced',np.unique(rounded_train),rounded_train)\n",
    "class_weightsV = class_weight.compute_class_weight('balanced',np.unique(y_validationclass2),y_validationclass2)\n",
    "classe_weight= {0 : 1.78253119, 1 : 2.62467192, 2 : 0.48590865 }\n",
    "classe_weightV= {0 : 1.66666667, 1 : 1.19047619, 2 : 0.64102564 }\n",
    "train_sample_weight = np.array([classe_weight[cls] for cls in rounded_train])\n",
    "val_sample_weight = np.array([classe_weightV[cls] for cls in y_validationclass2])"
   ]
  },
  {
   "cell_type": "markdown",
   "metadata": {},
   "source": [
    "### CallBacks"
   ]
  },
  {
   "cell_type": "code",
   "execution_count": null,
   "metadata": {
    "jupyter": {
     "source_hidden": true
    }
   },
   "outputs": [],
   "source": [
    "Reduce=ReduceLROnPlateau(factor=0.7, patience=5, min_lr=1e-9, verbose=1)\n",
    "filepath='Class_1.h5'\n",
    "filepath1='Class_2.h5'\n",
    "checkpointer = ModelCheckpoint(filepath,monitor='val_accuracy',save_weights_only=True, verbose=1, save_best_only=True)\n",
    "checkpointer2 = ModelCheckpoint(filepath1,monitor='val_categorical_accuracy',save_weights_only=True, verbose=1, save_best_only=True)\n",
    "earlystopper = EarlyStopping(patience=40,monitor='val_accuracy', verbose=1)\n",
    "log_dire = os.path.join(\n",
    "    \"logs\",\n",
    "    \"class\",\"final\",\n",
    "    datetime.datetime.now().strftime(\"%Y%m%d-%H%M%S\"),\n",
    ")\n",
    "tensorboard_callback = tf.keras.callbacks.TensorBoard(log_dir=log_dire, histogram_freq=1)"
   ]
  },
  {
   "cell_type": "markdown",
   "metadata": {},
   "source": [
    "### Actual training"
   ]
  },
  {
   "cell_type": "code",
   "execution_count": null,
   "metadata": {
    "jupyter": {
     "source_hidden": true
    }
   },
   "outputs": [],
   "source": [
    "data_gen_args = dict(rescale=1./255, horizontal_flip=True,vertical_flip=True )\n",
    "datagen = ImageDataGenerator(**data_gen_args)\n",
    "it = datagen.flow(x_train, y_trainclass, sample_weight=train_sample_weight, batch_size=batchsize,shuffle=True)\n",
    "results=model.fit_generator(it, steps_per_epoch=2000/batchsize,\n",
    "                    validation_data=(x_validation.astype(np.float32), y_validationclass.astype(np.float32),val_sample_weight),\n",
    "                    epochs=100, callbacks=[checkpointer,checkpointer2,Reduce,tensorboard_callback,earlystopper],verbose=1)\n",
    "plot_performanceClassification(results)\n",
    "del model"
   ]
  },
  {
   "cell_type": "markdown",
   "metadata": {},
   "source": [
    "## Model predictions:"
   ]
  },
  {
   "cell_type": "code",
   "execution_count": 3,
   "metadata": {},
   "outputs": [],
   "source": [
    "batchsize=8\n",
    "fullysize=1024\n",
    "poolvalue=3\n",
    "model = redeUNETclass(IMG_HEIGHT, IMG_WIDTH, IMG_CHANNELS, act='relu',complexity=32,fully=fullysize,pool=poolvalue,dropout_c=True)\n",
    "#model.load_weights(\"Class_a.h5\")\n",
    "model.load_weights(\"Weights\\Classification\\Class_17.h5\")"
   ]
  },
  {
   "cell_type": "markdown",
   "metadata": {},
   "source": [
    "## Train Predictions and Performance:"
   ]
  },
  {
   "cell_type": "code",
   "execution_count": null,
   "metadata": {
    "jupyter": {
     "source_hidden": true
    }
   },
   "outputs": [],
   "source": [
    "#predictions_train = model.predict(x_train,batch_size=4)\n",
    "#classification_metrics(predictions_train,y_trainclass)"
   ]
  },
  {
   "cell_type": "markdown",
   "metadata": {},
   "source": [
    "## Validation Predictions and Performance:"
   ]
  },
  {
   "cell_type": "code",
   "execution_count": 4,
   "metadata": {},
   "outputs": [
    {
     "name": "stdout",
     "output_type": "stream",
     "text": [
      "Prediction confusion Matrix\n",
      "[[21  5  4]\n",
      " [ 3 36  3]\n",
      " [11 12 55]]\n",
      "Original confusion Matrix\n",
      "[[30  0  0]\n",
      " [ 0 42  0]\n",
      " [ 0  0 78]]\n",
      "Sensivity[M N SK]: 0.700 . 0.705 . 0.857\n",
      "Specificit[M N SK]: 0.883 . 0.903 . 0.843\n",
      "Balanced_Accuracy by scikit: 0.754\n",
      "Categorical Accuracy: 0.747\n"
     ]
    }
   ],
   "source": [
    "predictions_val = model.predict(x_validation,batch_size=4)\n",
    "classification_metrics(predictions_val,y_validationclass)"
   ]
  },
  {
   "cell_type": "code",
   "execution_count": 151,
   "metadata": {},
   "outputs": [
    {
     "name": "stdout",
     "output_type": "stream",
     "text": [
      "1\n",
      "Image: ISIC_0001852.png\n",
      "Prediction:\n",
      "[2.6999796e-02 4.3030325e-04 9.7256988e-01]\n",
      "2\n",
      "Groundtruth:\n",
      "2\n"
     ]
    },
    {
     "data": {
      "image/png": "[encoded data removed]",
      "text/plain": [
       "<Figure size 432x288 with 1 Axes>"
      ]
     },
     "metadata": {
      "needs_background": "light"
     },
     "output_type": "display_data"
    }
   ],
   "source": [
    "# Melanoma correcto: 30, 107,140,137,133,132,131,103\n",
    "#Melanoma incorrecto: 106, 127,128,90,76,75,51,25\n",
    "# SK correcto:48, 115,93,117\n",
    "# SK incorrecto: 96\n",
    "# N correcto: 18,126\n",
    "# N incorrecto: 145,143,142,139,135\n",
    "\n",
    "#ix = random.randint(0, 150)\n",
    "#ix=130\n",
    "ix=ix-1\n",
    "imshow(x_validation[ix])\n",
    "print(ix)\n",
    "print(\"Image:\", nomefichv[ix])\n",
    "print(\"Prediction:\")\n",
    "print(predictions_val[ix])\n",
    "print(np.argmax(predictions_val[ix], axis=0))\n",
    "print(\"Groundtruth:\")\n",
    "print(np.argmax(y_validationclass[ix], axis=0))\n",
    "\n",
    "#print(y_validationclass[ix])"
   ]
  },
  {
   "cell_type": "markdown",
   "metadata": {},
   "source": [
    "## Test Dataset"
   ]
  },
  {
   "cell_type": "code",
   "execution_count": null,
   "metadata": {},
   "outputs": [],
   "source": [
    "DATAPATH = 'ISIC2017/ISIC-2017_Test_v2_Data/ISIC-2017_Test_v2_Data_Resize_5721/'\n",
    "DATAPATH_segm = 'ISIC2017/ISIC-2017_Test_v2_Part1_GroundTruth/ISIC-2017_Test_v2_Part1_GroundTruth_Resize_5721/'\n",
    "DATAPATH_csv='ISIC2017/ISIC-2017_Test_v2_Part3_GroundTruth.csv'\n",
    "x_validation,y_validation,y_validationclass,nomefichv=import_datasetBSrot(DATAPATH,DATAPATH_segm, DATAPATH_csv,600)\n",
    "x_validation=x_validation/255"
   ]
  },
  {
   "cell_type": "code",
   "execution_count": null,
   "metadata": {},
   "outputs": [],
   "source": [
    "batchsize=8\n",
    "fullysize=1024\n",
    "poolvalue=3\n",
    "model = redeUNETclass(IMG_HEIGHT, IMG_WIDTH, IMG_CHANNELS, act='relu',complexity=32,fully=fullysize,pool=poolvalue,dropout_c=True)\n",
    "model.load_weights(\"Weights/Classification/Class_17.h5\")"
   ]
  },
  {
   "cell_type": "code",
   "execution_count": null,
   "metadata": {},
   "outputs": [],
   "source": [
    "predictions_val = model.predict(x_validation,batch_size=4)\n",
    "classification_metrics(predictions_val,y_validationclass)"
   ]
  }
 ],
 "metadata": {
  "kernelspec": {
   "display_name": "Python 3",
   "language": "python",
   "name": "python3"
  },
  "language_info": {
   "codemirror_mode": {
    "name": "ipython",
    "version": 3
   },
   "file_extension": ".py",
   "mimetype": "text/x-python",
   "name": "python",
   "nbconvert_exporter": "python",
   "pygments_lexer": "ipython3",
   "version": "3.7.6"
  }
 },
 "nbformat": 4,
 "nbformat_minor": 4
}
