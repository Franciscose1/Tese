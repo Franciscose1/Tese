{
 "cells": [
  {
   "cell_type": "markdown",
   "metadata": {},
   "source": [
    "# UNET Model for Classification and Segmentation"
   ]
  },
  {
   "cell_type": "code",
   "execution_count": 1,
   "metadata": {},
   "outputs": [],
   "source": [
    "from importsfunctions import *"
   ]
  },
  {
   "cell_type": "markdown",
   "metadata": {},
   "source": [
    "## Model Creation e load de pesos:"
   ]
  },
  {
   "cell_type": "code",
   "execution_count": null,
   "metadata": {
    "jupyter": {
     "source_hidden": true
    }
   },
   "outputs": [],
   "source": [
    "model = redeUNETconjunta(IMG_HEIGHT, IMG_WIDTH, IMG_CHANNELS, act='relu',complexity=32,fully=1024,pool=3)\n",
    "#model.summary()"
   ]
  },
  {
   "cell_type": "markdown",
   "metadata": {},
   "source": [
    "### Bloquear pesos da parte de treino:"
   ]
  },
  {
   "cell_type": "code",
   "execution_count": null,
   "metadata": {
    "jupyter": {
     "source_hidden": true
    }
   },
   "outputs": [],
   "source": [
    "for layer in model.layers:\n",
    "    layer.trainable= False\n",
    "    #print(layer.name)\n",
    "    if layer.name in ['classification_output','dense','max_pooling2d_4']:\n",
    "        layer.trainable = True"
   ]
  },
  {
   "cell_type": "code",
   "execution_count": null,
   "metadata": {
    "jupyter": {
     "source_hidden": true
    }
   },
   "outputs": [],
   "source": [
    "for layer in model.layers:\n",
    "    layer.trainable= False\n",
    "    #print(layer.name)\n",
    "    if layer.name in ['segmentation_output','conv2d_18','conv2d_17','conv2d_16',\n",
    " 'conv2d_transpose_3','conv2d_15','conv2d_14','conv2d_transpose_2','conv2d_13','conv2d_12','conv2d_11','conv2d_transpose_1','conv2d_10']:\n",
    "        layer.trainable = True"
   ]
  },
  {
   "cell_type": "markdown",
   "metadata": {},
   "source": [
    "### Compile e summary"
   ]
  },
  {
   "cell_type": "code",
   "execution_count": null,
   "metadata": {
    "jupyter": {
     "source_hidden": true
    }
   },
   "outputs": [],
   "source": [
    "alfa=0.8\n",
    "model.summary()\n",
    "model.compile(optimizer=Adam(learning_rate=1e-4, ),\n",
    "              loss={'classification_output': 'categorical_crossentropy', 'segmentation_output': 'binary_crossentropy'},\n",
    "              loss_weights={'classification_output':(1- alfa), 'segmentation_output': (alfa)},#2\n",
    "              metrics={'classification_output': 'categorical_accuracy', 'segmentation_output':[jaccard,dice] },#[jaccard,dice]\n",
    "              weighted_metrics={'classification_output': 'accuracy'},\n",
    "             sample_weight_mode={'classification_output': None, 'segmentation_output': 'temporal'})"
   ]
  },
  {
   "cell_type": "markdown",
   "metadata": {},
   "source": [
    "## Configuration"
   ]
  },
  {
   "cell_type": "code",
   "execution_count": null,
   "metadata": {
    "jupyter": {
     "source_hidden": true
    }
   },
   "outputs": [],
   "source": [
    "['segmentation_output','conv2d_37','conv2d_36','conv2d_35',\n",
    " 'conv2d_transpose_7','conv2d_34','conv2d_33','conv2d_transpose_6','conv2d_31','conv2d_32','conv2d_30','conv2d_transpose_5','conv2d_29']\n",
    "# Parameters\n",
    "batch=8\n",
    "paramsT = {'batch_size': batch,\n",
    "          'n_classes': 3,\n",
    "          'shuffle': True,\n",
    "         'validation': False}\n",
    "paramsV = {'batch_size': 2,\n",
    "          'n_classes': 3,\n",
    "          'shuffle': False,\n",
    "         'validation': True}\n",
    "\n",
    "# Datasets\n",
    "DATAPATH_csv='ISIC-2017_Training_Part3_GroundTruth_r.csv'\n",
    "DATAPATH_segm_csv='ISIC-2017_Validation_Part3_GroundTruth.csv'\n",
    "partition,labels = create_dictionary(DATAPATH_csv,DATAPATH_segm_csv)\n",
    "\n",
    "# Generators\n",
    "training_generator = DataGenerator(partition['train'], labels, **paramsT)\n",
    "validation_generator = DataGenerator(partition['validation'], labels, **paramsV)"
   ]
  },
  {
   "cell_type": "markdown",
   "metadata": {},
   "source": [
    "### CallBacks"
   ]
  },
  {
   "cell_type": "code",
   "execution_count": null,
   "metadata": {
    "jupyter": {
     "source_hidden": true
    }
   },
   "outputs": [],
   "source": [
    "Reduce=ReduceLROnPlateau(factor=0.7, patience=10, min_lr=1e-9, verbose=1)\n",
    "\n",
    "#filepath='Weights/ClassSegm/final.h5'\n",
    "#filepath1='Weights/ClassSegm/ACC.h5'\n",
    "#checkpointer = ModelCheckpoint(filepath,monitor='val_segmentation_output_jaccard',save_weights_only=True, verbose=1, save_best_only=True)\n",
    "#checkpointer2 = ModelCheckpoint(filepath1,monitor='val_classification_output_accuracy',save_weights_only=True, verbose=1, save_best_only=True)\n",
    "filepath=\"Weights/ClassSegm/Final/14/epoca-{epoch:02d}.h5\"\n",
    "checkpointer2 = ModelCheckpoint(filepath,save_weights_only=True, verbose=1)\n",
    "earlystopper = EarlyStopping(patience=60,monitor='val_classification_output_accuracy', verbose=1)\n",
    "log_dire = os.path.join(\n",
    "    \"logs\",\n",
    "    \"ClassandSegm\",\"Final\",\"14\"\n",
    ")\n",
    "tensorboard_callback = tf.keras.callbacks.TensorBoard(log_dir=log_dire, histogram_freq=1)\n"
   ]
  },
  {
   "cell_type": "markdown",
   "metadata": {},
   "source": [
    "## Actual Training"
   ]
  },
  {
   "cell_type": "code",
   "execution_count": null,
   "metadata": {
    "jupyter": {
     "source_hidden": true
    }
   },
   "outputs": [],
   "source": [
    " results=model.fit_generator(generator=training_generator,\n",
    "                    validation_data=validation_generator,\n",
    "                    use_multiprocessing=True,\n",
    "                    steps_per_epoch=2000/(2*batch),\n",
    "                    workers=6,\n",
    "                    epochs=150,\n",
    "                    callbacks=[Reduce,tensorboard_callback,earlystopper,checkpointer2],#checkpointer,checkpointer2,\n",
    "                    verbose=1)\n"
   ]
  },
  {
   "cell_type": "code",
   "execution_count": null,
   "metadata": {
    "jupyter": {
     "source_hidden": true
    }
   },
   "outputs": [],
   "source": [
    "plot_performanceJunto(results)"
   ]
  },
  {
   "cell_type": "markdown",
   "metadata": {},
   "source": [
    "## Model Performance"
   ]
  },
  {
   "cell_type": "markdown",
   "metadata": {},
   "source": [
    "#### Import Data"
   ]
  },
  {
   "cell_type": "code",
   "execution_count": 2,
   "metadata": {},
   "outputs": [
    {
     "name": "stdout",
     "output_type": "stream",
     "text": [
      "yes\n"
     ]
    }
   ],
   "source": [
    "DATAPATH = 'ISIC2017/ISIC-2017_Validation_Data/ISIC-2017_Validation_Data_Resize_5721/'\n",
    "DATAPATH_segm = 'ISIC2017/ISIC-2017_Validation_Part1_GroundTruth/ISIC-2017_Validation_Part1_GroundTruth_Resize_5721/'\n",
    "DATAPATH_csv='ISIC2017/ISIC-2017_Validation_Part3_GroundTruth.csv'\n",
    "x_validation,y_validation,y_validationclass,nomefichv=import_datasetBSrot(DATAPATH,DATAPATH_segm, DATAPATH_csv,150)\n",
    "x_validation=x_validation/255"
   ]
  },
  {
   "cell_type": "markdown",
   "metadata": {},
   "source": [
    "#### Create Model and import Weights"
   ]
  },
  {
   "cell_type": "code",
   "execution_count": 3,
   "metadata": {},
   "outputs": [],
   "source": [
    "model = redeUNETconjunta(IMG_HEIGHT, IMG_WIDTH, IMG_CHANNELS, act='relu',complexity=32,fully=1024,pool=3)"
   ]
  },
  {
   "cell_type": "markdown",
   "metadata": {},
   "source": [
    "#### Predict Model"
   ]
  },
  {
   "cell_type": "code",
   "execution_count": null,
   "metadata": {},
   "outputs": [],
   "source": [
    "#model.load_weights(\"Weights\\Segmentation\\Segmentation7_32_2.h5\", by_name=model.load_weights(filepath1)\n",
    "#model.load_weights(filepath1)Weights/ClassSegm/Final/1/epoca-68.h5\n",
    "#Weights/ClassSegm/Final/1/epoca-68.h5\n",
    "model.load_weights(\"Weights/Class_Segm_CAnovo.h5\")\n",
    "predictions_val = model.predict(x_validation,batch_size=2)"
   ]
  },
  {
   "cell_type": "markdown",
   "metadata": {},
   "source": [
    "### Example with image and classification"
   ]
  },
  {
   "cell_type": "code",
   "execution_count": null,
   "metadata": {},
   "outputs": [],
   "source": [
    "ix = random.randint(0, 150)\n",
    "ix=ix-1\n",
    "ix=90\n",
    "#Melanoma incorrecto: 106, 127,128,90,76,75,51,25\n",
    "print(ix)\n",
    "print(\"Image:\", nomefichv[ix])\n",
    "print(\"Prediction:\")\n",
    "print(predictions_val[0][ix])\n",
    "print(np.argmax(predictions_val[0][ix], axis=0))\n",
    "print(\"Groundtruth:\")\n",
    "print(np.argmax(y_validationclass[ix], axis=0))\n",
    "\n",
    "imshow(x_validation[ix])\n",
    "plt.show()\n",
    "preds_val_t = (predictions_val[1] > 0.5).astype(np.uint8)\n",
    "preds_val_t2 = np.reshape(preds_val_t, (len(preds_val_t),388, 388))\n",
    "imshow(np.squeeze(preds_val_t2[ix]))\n",
    "plt.show()\n",
    "imshow(np.squeeze(y_validation[ix]))"
   ]
  },
  {
   "cell_type": "markdown",
   "metadata": {},
   "source": [
    "## Calculate Metrics"
   ]
  },
  {
   "cell_type": "markdown",
   "metadata": {},
   "source": [
    "#### Classification Metrics:"
   ]
  },
  {
   "cell_type": "code",
   "execution_count": null,
   "metadata": {},
   "outputs": [],
   "source": [
    "classification_metrics(predictions_val[0],y_validationclass)"
   ]
  },
  {
   "cell_type": "markdown",
   "metadata": {},
   "source": [
    "#### Segmentation Metrics:"
   ]
  },
  {
   "cell_type": "code",
   "execution_count": null,
   "metadata": {},
   "outputs": [],
   "source": [
    "preds_val_t = (predictions_val[1] > 0.5).astype(np.uint8)\n",
    "preds_val_t2 = np.reshape(preds_val_t, (len(preds_val_t),388, 388))\n",
    "DATAPATH_OUT = 'ISIC2017/ISIC-2017_Validation_Part1_GroundTruth/Result/teste/1/'\n",
    "automatePostProcess(preds_val_t2,DATAPATH_OUT,nomefichv) "
   ]
  },
  {
   "cell_type": "markdown",
   "metadata": {},
   "source": [
    "## Test dataset"
   ]
  },
  {
   "cell_type": "code",
   "execution_count": null,
   "metadata": {},
   "outputs": [],
   "source": [
    "DATAPATH = 'ISIC2017/ISIC-2017_Test_v2_Data/ISIC-2017_Test_v2_Data_Resize_5721/'\n",
    "DATAPATH_segm = 'ISIC2017/ISIC-2017_Test_v2_Part1_GroundTruth/ISIC-2017_Test_v2_Part1_GroundTruth_Resize_5721/'\n",
    "DATAPATH_csv='ISIC2017/ISIC-2017_Test_v2_Part3_GroundTruth.csv'\n",
    "x_validation,y_validation,y_validationclass,nomefichv=import_datasetBSrot(DATAPATH,DATAPATH_segm, DATAPATH_csv,600)\n",
    "x_validation=x_validation/255"
   ]
  },
  {
   "cell_type": "code",
   "execution_count": null,
   "metadata": {},
   "outputs": [],
   "source": [
    "model.load_weights(\"Weights/epoca-32.h5\")\n",
    "#model.load_weights(\"Weights/ClassSegm/Class_Segm_CAnovo.h5\")\n",
    "predictions_val = model.predict(x_validation,batch_size=4)\n",
    "classification_metrics(predictions_val[0],y_validationclass)\n",
    "preds_val_t = (predictions_val[1] > 0.5).astype(np.uint8)\n",
    "preds_val_t2 = np.reshape(preds_val_t, (len(preds_val_t),388, 388))\n",
    "DATAPATH_OUT = 'ISIC2017/ISIC-2017_Test_v2_Part1_GroundTruth/Result/teste/1/'\n",
    "automatePostProcessTest(preds_val_t2,DATAPATH_OUT,nomefichv)"
   ]
  },
  {
   "cell_type": "code",
   "execution_count": null,
   "metadata": {},
   "outputs": [],
   "source": [
    "#model.load_weights(\"Weights/epoca-32.h5\")\n",
    "model.load_weights(\"Weights/ClassSegm/Class_Segm_CAnovo.h5\")\n",
    "predictions_val = model.predict(x_validation,batch_size=4)\n",
    "classification_metrics(predictions_val[0],y_validationclass)"
   ]
  }
 ],
 "metadata": {
  "kernelspec": {
   "display_name": "Python 3",
   "language": "python",
   "name": "python3"
  },
  "language_info": {
   "codemirror_mode": {
    "name": "ipython",
    "version": 3
   },
   "file_extension": ".py",
   "mimetype": "text/x-python",
   "name": "python",
   "nbconvert_exporter": "python",
   "pygments_lexer": "ipython3",
   "version": "3.7.6"
  }
 },
 "nbformat": 4,
 "nbformat_minor": 4
}
