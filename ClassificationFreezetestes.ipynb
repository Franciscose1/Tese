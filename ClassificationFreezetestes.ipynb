{
 "cells": [
  {
   "cell_type": "markdown",
   "metadata": {},
   "source": [
    "# UNET Model for Classification"
   ]
  },
  {
   "cell_type": "code",
   "execution_count": 1,
   "metadata": {},
   "outputs": [],
   "source": [
    "from importsfunctions import *"
   ]
  },
  {
   "cell_type": "markdown",
   "metadata": {},
   "source": [
    "## Import train and validation dataset"
   ]
  },
  {
   "cell_type": "code",
   "execution_count": 2,
   "metadata": {},
   "outputs": [
    {
     "name": "stdout",
     "output_type": "stream",
     "text": [
      "yes\n",
      "yes\n"
     ]
    }
   ],
   "source": [
    "DATAPATH = 'ISIC2017/ISIC-2017_Training_Data/ISIC-2017_Training_Data_Resize_572_Augment/1/'\n",
    "DATAPATH_segm = 'ISIC2017/ISIC-2017_Training_Part1_GroundTruth/ISIC-2017_Training_Part1_GroundTruth_Resize_572_Augment/1/'\n",
    "DATAPATH_csv='ISIC2017/ISIC-2017_Training_Part3_GroundTruth.csv'\n",
    "x_train,_,y_trainclass,nomeficht=import_datasetBSrot(DATAPATH,DATAPATH_segm, DATAPATH_csv,4000)\n",
    "#x_train=x_train/255\n",
    "DATAPATH = 'ISIC2017/ISIC-2017_Validation_Data/ISIC-2017_Validation_Data_Resize_5721/'\n",
    "DATAPATH_segm = 'ISIC2017/ISIC-2017_Validation_Part1_GroundTruth/ISIC-2017_Validation_Part1_GroundTruth_Resize_5721/'\n",
    "DATAPATH_csv='ISIC2017/ISIC-2017_Validation_Part3_GroundTruth.csv'\n",
    "x_validation,_,y_validationclass,nomefichv=import_datasetBSrot(DATAPATH,DATAPATH_segm, DATAPATH_csv,150)\n",
    "x_validation=x_validation/255\n",
    "\n",
    "\n",
    "\n",
    "rounded_train=np.argmax(y_trainclass, axis=1)\n",
    "y_validationclass2=np.argmax(y_validationclass, axis=1)\n",
    "class_weights = class_weight.compute_class_weight('balanced',np.unique(rounded_train),rounded_train)\n",
    "class_weightsV = class_weight.compute_class_weight('balanced',np.unique(y_validationclass2),y_validationclass2)\n",
    "classe_weight= {0 : 1.78253119, 1 : 2.62467192, 2 : 0.48590865 }\n",
    "classe_weightV= {0 : 1.66666667, 1 : 1.19047619, 2 : 0.64102564 }\n",
    "train_sample_weight = np.array([classe_weight[cls] for cls in rounded_train])\n",
    "val_sample_weight = np.array([classe_weightV[cls] for cls in y_validationclass2])\n",
    "data_gen_args = dict(rescale=1./255, horizontal_flip=True,vertical_flip=True )\n",
    "datagen = ImageDataGenerator(**data_gen_args)\n",
    "it = datagen.flow(x_train, y_trainclass, sample_weight=train_sample_weight, batch_size=8,shuffle=True)\n"
   ]
  },
  {
   "cell_type": "markdown",
   "metadata": {},
   "source": [
    "## Create Model"
   ]
  },
  {
   "cell_type": "markdown",
   "metadata": {},
   "source": [
    "### Teste 1:"
   ]
  },
  {
   "cell_type": "code",
   "execution_count": null,
   "metadata": {},
   "outputs": [],
   "source": [
    "model_fixed = redeUNETclassfreeze(IMG_HEIGHT, IMG_WIDTH, IMG_CHANNELS, act='relu',complexity=32,fully=1024,pool=3)\n",
    "model_fixed.load_weights(\"BestSegmentatione.h5\", by_name=True)\n",
    "for layer in model_fixed.layers:\n",
    "    layer.trainable= False\n",
    "#model_fixed.summary()  \n",
    "\n",
    "model_class = redeUNETclassfreeze2(IMG_HEIGHT, IMG_WIDTH, IMG_CHANNELS, act='relu',complexity=32,fully=1024,pool=3)\n",
    "#model_class.summary()  \n",
    "\n",
    "\n",
    "model_final=Sequential()\n",
    "model_final.add(model_fixed)\n",
    "model_final.add(model_class)\n",
    "model_final.compile(optimizer=Adam(learning_rate=1e-4, amsgrad=True ),\n",
    "                    loss='categorical_crossentropy',metrics=['categorical_accuracy'],\n",
    "                    weighted_metrics=['accuracy'])\n",
    "model_final.summary()\n",
    "\n",
    "\n",
    "Reduce=ReduceLROnPlateau(factor=0.7, patience=7, min_lr=1e-10, verbose=1)\n",
    "filepath='Class_freezetotal11.h5'\n",
    "filepath1='Class_freezetotal11ca.h5'\n",
    "checkpointer = ModelCheckpoint(filepath,monitor='val_accuracy',save_weights_only=True, verbose=1, save_best_only=True)\n",
    "checkpointer2 = ModelCheckpoint(filepath1,monitor='val_categorical_accuracy',save_weights_only=True, verbose=1, save_best_only=True)\n",
    "earlystopper = EarlyStopping(patience=100, verbose=1)\n",
    "log_dire = os.path.join(\n",
    "    \"logs\",\n",
    "    \"freeze11\",\"tudofreeze\")\n",
    "tensorboard_callback = tf.keras.callbacks.TensorBoard(log_dir=log_dire, histogram_freq=1,profile_batch=0)\n",
    "\n",
    "results=model_final.fit_generator(it, steps_per_epoch=2000/8,\n",
    "                    validation_data=(x_validation.astype(np.float32), y_validationclass.astype(np.float32),val_sample_weight),\n",
    "                    epochs=200, callbacks=[checkpointer,checkpointer2,Reduce,tensorboard_callback],verbose=1)\n",
    "plot_performanceClassification(results)\n",
    "\n",
    "del model_final\n",
    "\n",
    "model_fixed = redeUNETclassfreeze(IMG_HEIGHT, IMG_WIDTH, IMG_CHANNELS, act='relu',complexity=32,fully=1024,pool=3)\n",
    "model_class = redeUNETclassfreeze2(IMG_HEIGHT, IMG_WIDTH, IMG_CHANNELS, act='relu',complexity=32,fully=1024,pool=3)\n",
    "\n",
    "model_final=Sequential()\n",
    "model_final.add(model_fixed)\n",
    "model_final.add(model_class)\n",
    "model_final.compile(optimizer=Adam(learning_rate=1e-4, amsgrad=True ),\n",
    "                    loss='categorical_crossentropy',metrics=['categorical_accuracy'],\n",
    "                    weighted_metrics=['accuracy'])\n",
    "#model_final.summary()\n",
    "model_final.load_weights(\"Class_freezetotal11.h5\")\n",
    "\n",
    "\n",
    "predictions_val = model_final.predict(x_validation,batch_size=4)\n",
    "classification_metrics(predictions_val,y_validationclass)"
   ]
  },
  {
   "cell_type": "markdown",
   "metadata": {},
   "source": [
    "### Teste 3:"
   ]
  },
  {
   "cell_type": "code",
   "execution_count": null,
   "metadata": {},
   "outputs": [],
   "source": [
    "model_fixed = redeUNETclassfreeze(IMG_HEIGHT, IMG_WIDTH, IMG_CHANNELS, act='relu',complexity=32,fully=1024,pool=3)\n",
    "model_class = redeUNETclassfreeze2(IMG_HEIGHT, IMG_WIDTH, IMG_CHANNELS, act='relu',complexity=32,fully=1024,pool=3)\n",
    "#model_class.summary()  \n",
    "\n",
    "model_final=Sequential()\n",
    "model_final.add(model_fixed)\n",
    "model_final.add(model_class)\n",
    "model_final.compile(optimizer=Adam(learning_rate=1e-5, amsgrad=True ),\n",
    "                    loss='categorical_crossentropy',metrics=['categorical_accuracy'],\n",
    "                    weighted_metrics=['accuracy'])\n",
    "model_final.summary()\n",
    "model_final.load_weights(\"Class_freezetotal10.h5\")\n",
    "\n",
    "\n",
    "Reduce=ReduceLROnPlateau(factor=0.7, patience=7, min_lr=1e-10, verbose=1)\n",
    "filepath='Class_afterfreeze10.h5'\n",
    "filepath1='Class_afterfreeze10ca.h5'\n",
    "checkpointer = ModelCheckpoint(filepath,monitor='val_accuracy',save_weights_only=True, verbose=1, save_best_only=True)\n",
    "checkpointer2 = ModelCheckpoint(filepath1,monitor='val_categorical_accuracy',save_weights_only=True, verbose=1, save_best_only=True)\n",
    "earlystopper = EarlyStopping(patience=100, verbose=1)\n",
    "log_dire = os.path.join(\n",
    "    \"logs\",\n",
    "    \"freeze10\",\"afterfreeze\")\n",
    "tensorboard_callback = tf.keras.callbacks.TensorBoard(log_dir=log_dire, histogram_freq=1,profile_batch=0)\n",
    "\n",
    "results=model_final.fit_generator(it, steps_per_epoch=2000/8,\n",
    "                    validation_data=(x_validation.astype(np.float32), y_validationclass.astype(np.float32),val_sample_weight),\n",
    "                    epochs=200, callbacks=[checkpointer,checkpointer2,Reduce,tensorboard_callback],verbose=1)\n",
    "plot_performanceClassification(results)\n",
    "\n",
    "del model_final\n",
    "\n",
    "model_fixed = redeUNETclassfreeze(IMG_HEIGHT, IMG_WIDTH, IMG_CHANNELS, act='relu',complexity=32,fully=1024,pool=3)\n",
    "model_class = redeUNETclassfreeze2(IMG_HEIGHT, IMG_WIDTH, IMG_CHANNELS, act='relu',complexity=32,fully=1024,pool=3)\n",
    "#model_class.summary()  \n",
    "\n",
    "model_final=Sequential()\n",
    "model_final.add(model_fixed)\n",
    "model_final.add(model_class)\n",
    "model_final.compile(optimizer=Adam(learning_rate=1e-4, amsgrad=True ),\n",
    "                    loss='categorical_crossentropy',metrics=['categorical_accuracy'],\n",
    "                    weighted_metrics=['accuracy'])\n",
    "#model_final.summary()\n",
    "\n",
    "model_final.load_weights(\"Class_afterfreeze.h5\")\n",
    "\n",
    "\n",
    "predictions_val = model_final.predict(x_validation,batch_size=4)\n",
    "classification_metrics(predictions_val,y_validationclass)"
   ]
  },
  {
   "cell_type": "markdown",
   "metadata": {},
   "source": [
    "### Teste 2"
   ]
  },
  {
   "cell_type": "code",
   "execution_count": null,
   "metadata": {
    "jupyter": {
     "source_hidden": true
    }
   },
   "outputs": [],
   "source": [
    "model_fixed = redeUNETclassfreeze(IMG_HEIGHT, IMG_WIDTH, IMG_CHANNELS, act='relu',complexity=32,fully=1024,pool=3)\n",
    "model_fixed.load_weights(\"BestSegmentatione.h5\", by_name=True)\n",
    "\n",
    "model_class = redeUNETclassfreeze2(IMG_HEIGHT, IMG_WIDTH, IMG_CHANNELS, act='relu',complexity=32,fully=1024,pool=3)\n",
    "#model_class.summary()  \n",
    "\n",
    "\n",
    "model_final=Sequential()\n",
    "model_final.add(model_fixed)\n",
    "model_final.add(model_class)\n",
    "model_final.compile(optimizer=Adam(learning_rate=1e-4, amsgrad=True ),\n",
    "                    loss='categorical_crossentropy',metrics=['categorical_accuracy'],\n",
    "                    weighted_metrics=['accuracy'])\n",
    "model_final.summary()\n",
    "\n",
    "\n",
    "Reduce=ReduceLROnPlateau(factor=0.7, patience=7, min_lr=1e-8, verbose=1)\n",
    "filepath='Class_unfreeze.h5'\n",
    "filepath1='Class_unfreeze.h5'\n",
    "checkpointer = ModelCheckpoint(filepath,monitor='val_accuracy',save_weights_only=True, verbose=1, save_best_only=True)\n",
    "checkpointer2 = ModelCheckpoint(filepath1,monitor='val_categorical_accuracy',save_weights_only=True, verbose=1, save_best_only=True)\n",
    "earlystopper = EarlyStopping(patience=100, verbose=1)\n",
    "log_dire = os.path.join(\n",
    "    \"logs\",\n",
    "    \"freeze3\",\"nofreeze\")\n",
    "tensorboard_callback = tf.keras.callbacks.TensorBoard(log_dir=log_dire, histogram_freq=1,profile_batch=0)\n",
    "\n",
    "results=model_final.fit_generator(it, steps_per_epoch=2000/8,\n",
    "                    validation_data=(x_validation.astype(np.float32), y_validationclass.astype(np.float32),val_sample_weight),\n",
    "                    epochs=200, callbacks=[checkpointer,checkpointer2,earlystopper,Reduce,tensorboard_callback],verbose=1)\n",
    "plot_performanceClassification(results)\n",
    "\n",
    "del model_final\n",
    "\n",
    "model_fixed = redeUNETclassfreeze(IMG_HEIGHT, IMG_WIDTH, IMG_CHANNELS, act='relu',complexity=32,fully=1024,pool=3)\n",
    "model_class = redeUNETclassfreeze2(IMG_HEIGHT, IMG_WIDTH, IMG_CHANNELS, act='relu',complexity=32,fully=1024,pool=3)\n",
    "\n",
    "model_final=Sequential()\n",
    "model_final.add(model_fixed)\n",
    "model_final.add(model_class)\n",
    "model_final.compile(optimizer=Adam(learning_rate=1e-4, amsgrad=True ),\n",
    "                    loss='categorical_crossentropy',metrics=['categorical_accuracy'],\n",
    "                    weighted_metrics=['accuracy'])\n",
    "#model_final.summary()\n",
    "model_final.load_weights(\"Class_unfreeze.h5\")\n",
    "\n",
    "\n",
    "\n",
    "predictions_train = model_final.predict(x_train,batch_size=4)\n",
    "classification_metrics(predictions_train,y_trainclass)\n",
    "\n",
    "predictions_val = model_final.predict(x_validation,batch_size=4)\n",
    "classification_metrics(predictions_val,y_validationclass)"
   ]
  },
  {
   "cell_type": "markdown",
   "metadata": {},
   "source": [
    "### Teste 3 again"
   ]
  },
  {
   "cell_type": "code",
   "execution_count": null,
   "metadata": {},
   "outputs": [],
   "source": [
    "model_fixed = redeUNETclassfreeze(IMG_HEIGHT, IMG_WIDTH, IMG_CHANNELS, act='relu',complexity=32,fully=1024,pool=3)\n",
    "model_class = redeUNETclassfreeze2(IMG_HEIGHT, IMG_WIDTH, IMG_CHANNELS, act='relu',complexity=32,fully=1024,pool=3)\n",
    "#model_class.summary()  \n",
    "\n",
    "model_final=Sequential()\n",
    "model_final.add(model_fixed)\n",
    "model_final.add(model_class)\n",
    "model_final.compile(optimizer=Adam(learning_rate=1e-5, amsgrad=True ),\n",
    "                    loss='categorical_crossentropy',metrics=['categorical_accuracy'],\n",
    "                    weighted_metrics=['accuracy'])\n",
    "model_final.summary()\n",
    "model_final.load_weights(\"Class_freezetotal11.h5\")\n",
    "\n",
    "\n",
    "\n",
    "\n",
    "\n",
    "\n",
    "Reduce=ReduceLROnPlateau(factor=0.7, patience=7, min_lr=1e-10, verbose=1)\n",
    "filepath='Class_afterfreeze11.h5'\n",
    "filepath1='Class_afterfreezeca11.h5'\n",
    "checkpointer = ModelCheckpoint(filepath,monitor='val_accuracy',save_weights_only=True, verbose=1, save_best_only=True)\n",
    "checkpointer2 = ModelCheckpoint(filepath1,monitor='val_categorical_accuracy',save_weights_only=True, verbose=1, save_best_only=True)\n",
    "earlystopper = EarlyStopping(patience=150, verbose=1)\n",
    "log_dire = os.path.join(\n",
    "    \"logs\",\n",
    "    \"freeze11\",\"afterfreeze\")\n",
    "tensorboard_callback = tf.keras.callbacks.TensorBoard(log_dir=log_dire, histogram_freq=1,profile_batch=0)\n",
    "\n",
    "results=model_final.fit_generator(it, steps_per_epoch=2000/8,\n",
    "                    validation_data=(x_validation.astype(np.float32), y_validationclass.astype(np.float32),val_sample_weight),\n",
    "                    epochs=200, callbacks=[checkpointer,checkpointer2,Reduce,tensorboard_callback],verbose=1)\n",
    "plot_performanceClassification(results)\n",
    "\n",
    "del model_final\n",
    "\n",
    "model_fixed = redeUNETclassfreeze(IMG_HEIGHT, IMG_WIDTH, IMG_CHANNELS, act='relu',complexity=32,fully=1024,pool=3)\n",
    "model_class = redeUNETclassfreeze2(IMG_HEIGHT, IMG_WIDTH, IMG_CHANNELS, act='relu',complexity=32,fully=1024,pool=3)\n",
    "#model_class.summary()  \n",
    "\n",
    "model_final=Sequential()\n",
    "model_final.add(model_fixed)\n",
    "model_final.add(model_class)\n",
    "model_final.compile(optimizer=Adam(learning_rate=1e-5, amsgrad=True ),\n",
    "                    loss='categorical_crossentropy',metrics=['categorical_accuracy'],\n",
    "                    weighted_metrics=['accuracy'])\n",
    "#model_final.summary()\n",
    "\n",
    "model_final.load_weights(\"Class_afterfreeze11.h5\")\n",
    "\n",
    "\n",
    "predictions_val = model_final.predict(x_validation,batch_size=4)\n",
    "classification_metrics(predictions_val,y_validationclass)"
   ]
  }
 ],
 "metadata": {
  "kernelspec": {
   "display_name": "Python 3",
   "language": "python",
   "name": "python3"
  },
  "language_info": {
   "codemirror_mode": {
    "name": "ipython",
    "version": 3
   },
   "file_extension": ".py",
   "mimetype": "text/x-python",
   "name": "python",
   "nbconvert_exporter": "python",
   "pygments_lexer": "ipython3",
   "version": "3.7.6"
  }
 },
 "nbformat": 4,
 "nbformat_minor": 4
}
