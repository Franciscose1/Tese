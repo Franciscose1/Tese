{
 "cells": [
  {
   "cell_type": "markdown",
   "metadata": {},
   "source": [
    "# UNET Model for Segmentation\n"
   ]
  },
  {
   "cell_type": "code",
   "execution_count": null,
   "metadata": {},
   "outputs": [],
   "source": [
    "from importsfunctions import *"
   ]
  },
  {
   "cell_type": "markdown",
   "metadata": {},
   "source": [
    "## Parameters"
   ]
  },
  {
   "cell_type": "code",
   "execution_count": null,
   "metadata": {
    "jupyter": {
     "source_hidden": true
    }
   },
   "outputs": [],
   "source": [
    "complexity1=32\n",
    "act1='relu'\n",
    "batch=2\n",
    "loss1='binary_crossentropy'\n",
    "dropout_c1=True\n",
    "optimizer1=Adam(learning_rate=1e-4)#,amsgrad=True )\n",
    "DataAug=True\n",
    "\n",
    "patience1=5 ## Sem Adaptive LR\n",
    "log_dire = os.path.join(\n",
    "    \"logs\",\n",
    "    \"Segm\",\"testa\"\n",
    ")\n",
    "filepath=\"Segmentation_teste.h5\""
   ]
  },
  {
   "cell_type": "markdown",
   "metadata": {},
   "source": [
    "### Callbacks"
   ]
  },
  {
   "cell_type": "code",
   "execution_count": null,
   "metadata": {
    "jupyter": {
     "source_hidden": true
    }
   },
   "outputs": [],
   "source": [
    "checkpointer = ModelCheckpoint(filepath, verbose=1,monitor='val_jaccard', save_weights_only=True,save_best_only=True)\n",
    "Reduce=ReduceLROnPlateau(factor=0.7, patience=patience1, min_lr=1e-9, verbose=1)\n",
    "earlystopper = EarlyStopping(patience=50,monitor='val_jaccard', verbose=1)\n",
    "tensorboard_callback = tf.keras.callbacks.TensorBoard(log_dir=log_dire, histogram_freq=1)"
   ]
  },
  {
   "cell_type": "markdown",
   "metadata": {},
   "source": [
    "## Data import"
   ]
  },
  {
   "cell_type": "code",
   "execution_count": null,
   "metadata": {
    "jupyter": {
     "source_hidden": true
    }
   },
   "outputs": [],
   "source": [
    "#Validation=True significa que não há data Augmentation\n",
    "# Parameters\n",
    "paramsT = {'batch_size': batch,\n",
    "          'n_classes': 3,\n",
    "          'shuffle': True,\n",
    "         'validation': not(DataAug)}\n",
    "paramsV = {'batch_size': batch,\n",
    "          'n_classes': 3,\n",
    "          'shuffle': False,\n",
    "         'validation': True}\n",
    "\n",
    "# Datasets\n",
    "DATAPATH_csv='ISIC-2017_Training_Part3_GroundTruth_r.csv'\n",
    "#DATAPATH_csv='ISIC-2017_Training_Part3_GroundTruth.csv'#sem data augmentation\n",
    "DATAPATH_segm_csv='ISIC-2017_Validation_Part3_GroundTruth.csv'\n",
    "partition,labels = create_dictionary(DATAPATH_csv,DATAPATH_segm_csv)\n",
    "\n",
    "# Generators\n",
    "training_generator = DataGenerator_segmentation(partition['train'], labels, **paramsT)\n",
    "validation_generator = DataGenerator_segmentation(partition['validation'], labels, **paramsV)"
   ]
  },
  {
   "cell_type": "markdown",
   "metadata": {},
   "source": [
    "## Build model"
   ]
  },
  {
   "cell_type": "code",
   "execution_count": null,
   "metadata": {
    "jupyter": {
     "source_hidden": true
    }
   },
   "outputs": [],
   "source": [
    "model=redeUNET(IMG_HEIGHT, IMG_WIDTH, IMG_CHANNELS,act=act1,complexity=complexity1,dropout_c=dropout_c1)\n",
    "model.compile(optimizer=optimizer1, loss=loss1 ,metrics=[jaccard])\n",
    "model.summary()"
   ]
  },
  {
   "cell_type": "markdown",
   "metadata": {},
   "source": [
    "## Actual training"
   ]
  },
  {
   "cell_type": "code",
   "execution_count": null,
   "metadata": {
    "jupyter": {
     "source_hidden": true
    }
   },
   "outputs": [],
   "source": [
    "results=model.fit_generator(generator=training_generator,\n",
    "                    validation_data=validation_generator,\n",
    "                    use_multiprocessing=True,\n",
    "                    steps_per_epoch=2000/batch,        \n",
    "                    workers=6,\n",
    "                    epochs=10,\n",
    "                    callbacks=[checkpointer,Reduce,earlystopper,tensorboard_callback],\n",
    "                    verbose=1)"
   ]
  },
  {
   "cell_type": "markdown",
   "metadata": {},
   "source": [
    "## Load Weights"
   ]
  },
  {
   "cell_type": "code",
   "execution_count": null,
   "metadata": {},
   "outputs": [],
   "source": [
    "model=redeUNET(IMG_HEIGHT, IMG_WIDTH, IMG_CHANNELS,act=act1,complexity=complexity1,dropout_c=dropout_c1)\n",
    "#model.compile(optimizer=optimizer1, loss=loss1 ,metrics=[jaccard])\n",
    "#model.load_weights(filepath)\n",
    "model.load_weights(\"Weights\\Segmentation\\Segmentation7_32_2.h5\", by_name=True)"
   ]
  },
  {
   "cell_type": "markdown",
   "metadata": {},
   "source": [
    "## Generate Predictions and evaluate"
   ]
  },
  {
   "cell_type": "code",
   "execution_count": null,
   "metadata": {},
   "outputs": [],
   "source": [
    "DATAPATH = 'ISIC2017/ISIC-2017_Validation_Data/ISIC-2017_Validation_Data_Resize_5721/'\n",
    "DATAPATH_segm = 'ISIC2017/ISIC-2017_Validation_Part1_GroundTruth/ISIC-2017_Validation_Part1_GroundTruth_Resize_5721/'\n",
    "DATAPATH_csv='ISIC2017/ISIC-2017_Validation_Part3_GroundTruth.csv'\n",
    "x_validation,y_validation,y_validationclass,nomefichv=import_datasetBSrot(DATAPATH,DATAPATH_segm, DATAPATH_csv,150)\n",
    "x_validation=x_validation/255"
   ]
  },
  {
   "cell_type": "code",
   "execution_count": null,
   "metadata": {},
   "outputs": [],
   "source": [
    "predictions_val = model.predict(x_validation,batch_size=4)\n",
    "preds_val_t = (predictions_val > 0.5).astype(np.uint8)\n",
    "DATAPATH_OUT = 'ISIC2017/ISIC-2017_Validation_Part1_GroundTruth/Result/teste/1/'\n",
    "automatePostProcess(preds_val_t,DATAPATH_OUT,nomefichv)"
   ]
  },
  {
   "cell_type": "markdown",
   "metadata": {},
   "source": [
    "## Prediction example"
   ]
  },
  {
   "cell_type": "code",
   "execution_count": null,
   "metadata": {},
   "outputs": [],
   "source": [
    "ix = random.randint(0, 150)\n",
    "imshow(x_validation[ix])\n",
    "print(ix)\n",
    "plt.show()\n",
    "imshow(np.squeeze(y_validation[ix]))\n",
    "plt.show()\n",
    "imshow(np.squeeze(preds_val_t[ix]))\n",
    "plt.show()\n",
    "print('IOU=', getIOU(preds_val_t[ix], y_validation[ix]))"
   ]
  },
  {
   "cell_type": "markdown",
   "metadata": {},
   "source": [
    "# Test Dataset"
   ]
  },
  {
   "cell_type": "code",
   "execution_count": null,
   "metadata": {
    "jupyter": {
     "source_hidden": true
    }
   },
   "outputs": [],
   "source": [
    "model=redeUNET(IMG_HEIGHT, IMG_WIDTH, IMG_CHANNELS,act=act1,complexity=complexity1,dropout_c=dropout_c1)\n",
    "model.compile(optimizer=optimizer1, loss=loss1 ,metrics=[jaccard])\n",
    "#model.load_weights(filepath)\n",
    "model.load_weights(\"Weights\\Segmentation\\Segmentation7_32_2.h5\", by_name=True)"
   ]
  },
  {
   "cell_type": "code",
   "execution_count": null,
   "metadata": {
    "jupyter": {
     "source_hidden": true
    }
   },
   "outputs": [],
   "source": [
    "DATAPATH = 'ISIC2017/ISIC-2017_Test_v2_Data/ISIC-2017_Test_v2_Data_Resize_5721/'\n",
    "DATAPATH_segm = 'ISIC2017/ISIC-2017_Test_v2_Part1_GroundTruth/ISIC-2017_Test_v2_Part1_GroundTruth_Resize_5721/'\n",
    "DATAPATH_csv='ISIC2017/ISIC-2017_Test_v2_Part3_GroundTruth.csv'\n",
    "x_validation,y_validation,y_validationclass,nomefichv=import_datasetBSrot(DATAPATH,DATAPATH_segm, DATAPATH_csv,600)\n",
    "x_validation=x_validation/255"
   ]
  },
  {
   "cell_type": "code",
   "execution_count": null,
   "metadata": {
    "jupyter": {
     "source_hidden": true
    }
   },
   "outputs": [],
   "source": [
    "predictions_val = model.predict(x_validation,batch_size=4)\n",
    "preds_val_t = (predictions_val > 0.5).astype(np.uint8)\n",
    "DATAPATH_OUT = 'ISIC2017/ISIC-2017_Test_v2_Part1_GroundTruth/Result/teste/1/'\n",
    "automatePostProcessTest(preds_val_t,DATAPATH_OUT,nomefichv)"
   ]
  },
  {
   "cell_type": "code",
   "execution_count": null,
   "metadata": {
    "jupyter": {
     "source_hidden": true
    }
   },
   "outputs": [],
   "source": [
    "ix = random.randint(0, 600)\n",
    "imshow(x_validation[ix])\n",
    "print(ix)\n",
    "plt.show()\n",
    "imshow(np.squeeze(y_validation[ix]))\n",
    "plt.show()\n",
    "imshow(np.squeeze(preds_val_t[ix]))\n",
    "plt.show()\n",
    "print('IOU=', getIOU(preds_val_t[ix], y_validation[ix]))"
   ]
  }
 ],
 "metadata": {
  "kernelspec": {
   "display_name": "Python 3",
   "language": "python",
   "name": "python3"
  },
  "language_info": {
   "codemirror_mode": {
    "name": "ipython",
    "version": 3
   },
   "file_extension": ".py",
   "mimetype": "text/x-python",
   "name": "python",
   "nbconvert_exporter": "python",
   "pygments_lexer": "ipython3",
   "version": "3.7.6"
  }
 },
 "nbformat": 4,
 "nbformat_minor": 4
}
