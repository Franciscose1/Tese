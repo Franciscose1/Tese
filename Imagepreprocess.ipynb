{
 "cells": [
  {
   "cell_type": "markdown",
   "metadata": {},
   "source": [
    "# Image PreProcessing"
   ]
  },
  {
   "cell_type": "markdown",
   "metadata": {},
   "source": [
    "## Resize dataset\n",
    "Squarify images, and keep the same name"
   ]
  },
  {
   "cell_type": "code",
   "execution_count": 1,
   "metadata": {},
   "outputs": [],
   "source": [
    "import os\n",
    "from matplotlib import pyplot as mlt\n",
    "from skimage.transform import resize\n",
    "from skimage.io import imread, imshow, imsave\n",
    "from skimage import img_as_ubyte\n",
    "import numpy as np\n",
    "from skimage.util import crop\n",
    "import warnings\n",
    "warnings.filterwarnings('ignore', category=UserWarning, module='skimage')\n",
    "def resize_dataset4(DATA_PATH,DATA_PATH2,DATA_PATH_OUT,DATA_PATH_OUT_S):\n",
    "    for root, dirs, files in os.walk(DATA_PATH):\n",
    "        a=0\n",
    "        for filename in files:\n",
    "            image =imread(DATA_PATH+filename)\n",
    "            filenameS = filename.rstrip(\".jpg\")\n",
    "            imageS = imread(DATA_PATH2+filenameS+'_segmentation.png')\n",
    "            #print(imageS.shape)\n",
    "            #imshow(imageS)\n",
    "            #print(imageS)\n",
    "            height, width, channels = image.shape\n",
    "            if width > height:\n",
    "                width2=width+(184*2)\n",
    "                add_x = int((width2-height)/2)#cima\n",
    "                add_x2=width2-height-add_x # baixo\n",
    "                add_y=92*2 #esquerda\n",
    "                add_y2=92*2 #direita\n",
    "                temp_img = np.zeros((width2,width2,3),dtype = np.uint8)\n",
    "                temp_imgS = np.zeros((width2,width2,1),dtype=np.bool)\n",
    "            else:\n",
    "                height2=height+(184*2)\n",
    "                add_y=int((height2-width)/2)#esquerda\n",
    "                add_y2=height2-width-add_y#direita\n",
    "                add_x=92*2 #cima\n",
    "                add_x2=92*2#baixo\n",
    "                temp_img = np.zeros((height2,height2,3),dtype = np.uint8)\n",
    "                temp_imgS = np.zeros((height2,height2,1),dtype=np.bool)\n",
    "            for i in range(3):\n",
    "                temp_img[:,:,i] = np.pad(image[:,:,i],((add_x,add_x2),(add_y,add_y2)),'constant', constant_values = (0,0))\n",
    "            temp_imgS = np.pad(imageS[:,:],((add_x,add_x2),(add_y,add_y2)),'constant', constant_values = (0))\n",
    "            #imshow(temp_imgS)\n",
    "            #print(temp_imgS.shape)  (rows, cols[, …][, dim])\n",
    "            resized_img = resize(temp_img,(572, 572),  anti_aliasing=True)\n",
    "            \n",
    "            imageS = resize(temp_imgS,(572, 572),  anti_aliasing=True)\n",
    "            resized_imgS = crop(imageS, ((92, 92), (92, 92)), copy=False)\n",
    "            #print(temp_imgS.shape)\n",
    "            #print(resized_img.shape)\n",
    "            #imshow(resized_imgS)\n",
    "            imsave(DATA_PATH_OUT+filenameS+'.jpg',img_as_ubyte(resized_img))\n",
    "            imsave(DATA_PATH_OUT_S+filenameS+'.png',img_as_ubyte(resized_imgS))\n",
    "            a=a+1\n",
    "            \n",
    "    return"
   ]
  },
  {
   "cell_type": "code",
   "execution_count": null,
   "metadata": {
    "jupyter": {
     "source_hidden": true
    }
   },
   "outputs": [],
   "source": [
    "DATA_PATH = 'ISIC2017/ISIC-2017_Validation_Data/ISIC-2017_Validation_Data/'\n",
    "DATA_PATH_Segmentation = 'ISIC2017/ISIC-2017_Validation_Part1_GroundTruth/ISIC-2017_Validation_Part1_GroundTruth/'\n",
    "DATA_PATH_OUT = 'ISIC2017/ISIC-2017_Validation_Data/ISIC-2017_Validation_Data_Resize_5721/'\n",
    "DATA_PATH_OUT_S = 'ISIC2017/ISIC-2017_Validation_Part1_GroundTruth/ISIC-2017_Validation_Part1_GroundTruth_Resize_5721/'\n",
    "resize_dataset4(DATA_PATH,DATA_PATH_Segmentation,DATA_PATH_OUT,DATA_PATH_OUT_S)\n",
    "print(\"yes\")"
   ]
  },
  {
   "cell_type": "code",
   "execution_count": null,
   "metadata": {
    "jupyter": {
     "source_hidden": true
    }
   },
   "outputs": [],
   "source": [
    "DATA_PATH = 'ISIC2017/ISIC-2017_Training_Data/ISIC-2017_Training_Data/'\n",
    "DATA_PATH_Segmentation = 'ISIC2017/ISIC-2017_Training_Part1_GroundTruth/ISIC-2017_Training_Part1_GroundTruth/'\n",
    "DATA_PATH_OUT='ISIC2017/ISIC-2017_Training_Data/ISIC-2017_Training_Data_Resize_5721/'\n",
    "DATA_PATH_OUT_S='ISIC2017/ISIC-2017_Training_Part1_GroundTruth/ISIC-2017_Training_Part1_GroundTruth_Resize_5721/'\n",
    "resize_dataset4(DATA_PATH,DATA_PATH_Segmentation,DATA_PATH_OUT,DATA_PATH_OUT_S)\n",
    "print(\"yes\")"
   ]
  },
  {
   "cell_type": "code",
   "execution_count": 2,
   "metadata": {},
   "outputs": [
    {
     "name": "stdout",
     "output_type": "stream",
     "text": [
      "yes\n"
     ]
    }
   ],
   "source": [
    "DATA_PATH = 'ISIC2017/ISIC-2017_Test_v2_Data/ISIC-2017_Test_v2_Data/'\n",
    "DATA_PATH_Segmentation = 'ISIC2017/ISIC-2017_Test_v2_Part1_GroundTruth/ISIC-2017_Test_v2_Part1_GroundTruth/'\n",
    "DATA_PATH_OUT='ISIC2017/ISIC-2017_Test_v2_Data/ISIC-2017_Test_v2_Data_Resize_5721/'\n",
    "DATA_PATH_OUT_S='ISIC2017/ISIC-2017_Test_v2_Part1_GroundTruth/ISIC-2017_Test_v2_Part1_GroundTruth_Resize_5721/'\n",
    "resize_dataset4(DATA_PATH,DATA_PATH_Segmentation,DATA_PATH_OUT,DATA_PATH_OUT_S)\n",
    "print(\"yes\")"
   ]
  },
  {
   "cell_type": "markdown",
   "metadata": {},
   "source": [
    "## Image Rotation"
   ]
  },
  {
   "cell_type": "code",
   "execution_count": null,
   "metadata": {},
   "outputs": [],
   "source": [
    "import os\n",
    "from matplotlib import pyplot as mlt\n",
    "from skimage.transform import resize\n",
    "from skimage.io import imread, imshow, imsave\n",
    "from skimage import img_as_ubyte\n",
    "import numpy as np\n",
    "from skimage.util import crop\n",
    "import warnings\n",
    "warnings.filterwarnings('ignore', category=UserWarning, module='skimage')\n",
    "def rotate_dataset(DATA_PATH,DATA_PATH2,DATA_PATH_OUT,DATA_PATH_OUT_S):\n",
    "    for root, dirs, files in os.walk(DATA_PATH):\n",
    "        a=0\n",
    "        for filename in files:\n",
    "            im = Image.open(DATA_PATH+filename)\n",
    "            filenameS = filename.rstrip(\".jpg\")\n",
    "            ims = Image.open(DATA_PATH2+filenameS+'.png')\n",
    "            im1 = im.rotate(90)\n",
    "            ims1 = ims.rotate(90)\n",
    "            im.save(DATA_PATH_OUT+filenameS+'.jpg')\n",
    "            ims.save(DATA_PATH_OUT_S+filenameS+'.png')\n",
    "            im1.save(DATA_PATH_OUT+filenameS+'r.jpg')\n",
    "            ims1.save(DATA_PATH_OUT_S+filenameS+'r.png')\n",
    "            "
   ]
  },
  {
   "cell_type": "code",
   "execution_count": null,
   "metadata": {},
   "outputs": [],
   "source": [
    "DATA_PATH = 'ISIC2017/ISIC-2017_Validation_Data/ISIC-2017_Validation_Data_Resize_5721/'\n",
    "DATA_PATH_Segmentation = 'ISIC2017/ISIC-2017_Validation_Part1_GroundTruth/ISIC-2017_Validation_Part1_GroundTruth_Resize_5721/'\n",
    "DATA_PATH_OUT = 'ISIC2017/ISIC-2017_Validation_Data/ISIC-2017_Validation_Data_Resize_572_Augment/'\n",
    "DATA_PATH_OUT_S = 'ISIC2017/ISIC-2017_Validation_Part1_GroundTruth/ISIC-2017_Validation_Part1_GroundTruth_Resize_572_Augment/'\n",
    "rotate_dataset(DATA_PATH,DATA_PATH_Segmentation,DATA_PATH_OUT,DATA_PATH_OUT_S)\n",
    "print(\"yes\")"
   ]
  },
  {
   "cell_type": "code",
   "execution_count": null,
   "metadata": {},
   "outputs": [],
   "source": [
    "DATA_PATH = 'ISIC2017/ISIC-2017_Training_Data/ISIC-2017_Training_Data_Resize_5721/1/'\n",
    "DATA_PATH_Segmentation = 'ISIC2017/ISIC-2017_Training_Part1_GroundTruth/ISIC-2017_Training_Part1_GroundTruth_Resize_5721/1/'\n",
    "DATA_PATH_OUT='ISIC2017/ISIC-2017_Training_Data/ISIC-2017_Training_Data_Resize_572_Augment/'\n",
    "DATA_PATH_OUT_S='ISIC2017/ISIC-2017_Training_Part1_GroundTruth/ISIC-2017_Training_Part1_GroundTruth_Resize_572_Augment/'\n",
    "rotate_dataset(DATA_PATH,DATA_PATH_Segmentation,DATA_PATH_OUT,DATA_PATH_OUT_S)\n",
    "print(\"yes\")"
   ]
  },
  {
   "cell_type": "markdown",
   "metadata": {},
   "source": [
    "## Rotate dataset and update csv"
   ]
  },
  {
   "cell_type": "code",
   "execution_count": null,
   "metadata": {},
   "outputs": [],
   "source": [
    "import os\n",
    "from PIL import Image\n",
    "import pandas\n",
    "import csv\n",
    "\n",
    "def rotate_datasetcsv(DATA_PATH,DATA_PATH2,DATA_PATH_OUT,DATA_PATH_OUT_S,DATAPATH_csv,DATAPATH_csv_out):\n",
    "    data = pandas.read_csv(DATAPATH_csv)\n",
    "    for root, dirs, files in os.walk(DATA_PATH):\n",
    "        a=0\n",
    "        for filename in files:\n",
    "            a=a+1\n",
    "            im = Image.open(DATA_PATH+filename)\n",
    "            filenameS = filename.rstrip(\".jpg\")\n",
    "            df = data[data['image_id']==filenameS]\n",
    "            \n",
    "            ims = Image.open(DATA_PATH2+filenameS+'.png')\n",
    "            \n",
    "            #Rotation:\n",
    "            im1 = im.rotate(90)\n",
    "            ims1 = ims.rotate(90)\n",
    "            im1.save(DATA_PATH_OUT+filenameS+'r.jpg')\n",
    "            ims1.save(DATA_PATH_OUT_S+filenameS+'r.png')\n",
    "            data2=df.replace(filenameS,filenameS+'r')\n",
    "            data2.to_csv(DATAPATH_csv_out,mode='a', header=False,index=False)\n",
    "            \n",
    "            #original:\n",
    "            im.save(DATA_PATH_OUT+filenameS+'.jpg')\n",
    "            ims.save(DATA_PATH_OUT_S+filenameS+'.png')\n",
    "            df.to_csv(DATAPATH_csv_out,mode='a', header=False,index=False)\n"
   ]
  },
  {
   "cell_type": "code",
   "execution_count": null,
   "metadata": {},
   "outputs": [],
   "source": [
    "DATAPATH_csv='ISIC2017/ISIC-2017_Validation_Part3_GroundTruth.csv'\n",
    "DATAPATH_csv_out='ISIC-2017_Validation_Part3_GroundTruth_r.csv'\n",
    "DATA_PATH = 'ISIC2017/ISIC-2017_Validation_Data/ISIC-2017_Validation_Data_Resize_5721/'\n",
    "DATA_PATH_Segmentation = 'ISIC2017/ISIC-2017_Validation_Part1_GroundTruth/ISIC-2017_Validation_Part1_GroundTruth_Resize_5721/'\n",
    "DATA_PATH_OUT = 'ISIC2017/Tudojunto_r/imagens/'\n",
    "DATA_PATH_OUT_S = 'ISIC2017/Tudojunto_r/segm/'\n",
    "rotate_datasetcsv(DATA_PATH,DATA_PATH_Segmentation,DATA_PATH_OUT,DATA_PATH_OUT_S,DATAPATH_csv,DATAPATH_csv_out)\n",
    "print(\"yes\")"
   ]
  },
  {
   "cell_type": "code",
   "execution_count": null,
   "metadata": {},
   "outputs": [],
   "source": [
    "DATAPATH_csv='ISIC2017/ISIC-2017_Training_Part3_GroundTruth.csv'\n",
    "DATAPATH_csv_out='ISIC-2017_Training_Part3_GroundTruth_r.csv'\n",
    "DATA_PATH = 'ISIC2017/ISIC-2017_Training_Data/ISIC-2017_Training_Data_Resize_5721/1/'\n",
    "DATA_PATH_Segmentation = 'ISIC2017/ISIC-2017_Training_Part1_GroundTruth/ISIC-2017_Training_Part1_GroundTruth_Resize_5721/1/'\n",
    "DATA_PATH_OUT='ISIC2017/Tudojunto_r/imagens/'\n",
    "DATA_PATH_OUT_S='ISIC2017/Tudojunto_r/segm/'\n",
    "rotate_datasetcsv(DATA_PATH,DATA_PATH_Segmentation,DATA_PATH_OUT,DATA_PATH_OUT_S,DATAPATH_csv,DATAPATH_csv_out)\n",
    "print(\"yes\")"
   ]
  }
 ],
 "metadata": {
  "kernelspec": {
   "display_name": "Python 3",
   "language": "python",
   "name": "python3"
  },
  "language_info": {
   "codemirror_mode": {
    "name": "ipython",
    "version": 3
   },
   "file_extension": ".py",
   "mimetype": "text/x-python",
   "name": "python",
   "nbconvert_exporter": "python",
   "pygments_lexer": "ipython3",
   "version": "3.7.6"
  }
 },
 "nbformat": 4,
 "nbformat_minor": 4
}
